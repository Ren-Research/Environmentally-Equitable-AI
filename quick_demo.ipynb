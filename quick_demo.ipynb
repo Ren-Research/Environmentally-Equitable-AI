{
 "cells": [
  {
   "cell_type": "code",
   "execution_count": 1,
   "id": "59e123ff-ed83-4705-b047-4d76a582f518",
   "metadata": {},
   "outputs": [],
   "source": [
    "import numpy as np\n",
    "import pandas as pd\n",
    "import cvxpy as cp\n",
    "\n",
    "import matplotlib\n",
    "import matplotlib.pyplot as plt\n",
    "import pickle\n",
    "from copy import deepcopy"
   ]
  },
  {
   "cell_type": "code",
   "execution_count": 2,
   "id": "ea3a4190-9bd3-45b0-8199-8f1b0a7f5262",
   "metadata": {},
   "outputs": [],
   "source": [
    "from utils.solve import offline_solver, evaluate_single, evaluate_total\n",
    "from utils.dataloader import expand_gateway"
   ]
  },
  {
   "cell_type": "markdown",
   "id": "d938ecba-e141-43b8-a5e5-8ef536608f12",
   "metadata": {
    "tags": []
   },
   "source": [
    "## 1. Loading Data"
   ]
  },
  {
   "cell_type": "code",
   "execution_count": 3,
   "id": "5127d365-f534-4db9-b718-78a197ba9fd4",
   "metadata": {},
   "outputs": [
    {
     "name": "stdout",
     "output_type": "stream",
     "text": [
      "(10, 457)\n"
     ]
    }
   ],
   "source": [
    "country_list   = [\"Texas\", \"Virginia\", \"Georgia\", \"Nevada\", \"Germany\", \"Belguim\", \"Netherlands\", \"Denmark\", \"Japan\", \"Singapore\"]\n",
    "price_all_loc  = []\n",
    "carbon_all_loc = []\n",
    "water_all_loc  = []\n",
    "\n",
    "for country in country_list:\n",
    "    csv_file       = \"data/price/{}_Price.csv\".format(country)\n",
    "    df             = pd.read_csv(csv_file)\n",
    "    price_array    = df[\"Price (USD/MWh)\"].to_numpy()[:457]\n",
    "    price_all_loc += [price_array]\n",
    "    \n",
    "    csv_file        = \"data/carbon/{}_carbon.csv\".format(country)\n",
    "    df              = pd.read_csv(csv_file)\n",
    "    carbon_array    = df[\"Carbon (kg/kWh)\"].to_numpy()\n",
    "    carbon_all_loc += [carbon_array]\n",
    "    \n",
    "    csv_file       = \"data/water/{}_water.csv\".format(country)\n",
    "    df             = pd.read_csv(csv_file)\n",
    "    if country in [\"Nevada\", \"Singapore\"]:\n",
    "        water_array    = df[' WUE (L/kWh)'].to_numpy()\n",
    "    else:\n",
    "        water_array    = df[' WUE (L/kWh)'].to_numpy()\n",
    "    water_all_loc += [water_array]    \n",
    "\n",
    "price_all_loc  = np.stack(price_all_loc,  axis=0)\n",
    "carbon_all_loc = np.stack(carbon_all_loc, axis=0)\n",
    "water_all_loc  = np.stack(water_all_loc,  axis=0)\n",
    "\n",
    "\n",
    "wkld_csv_file  = \"data/AI_workload.csv\"\n",
    "df             = pd.read_csv(wkld_csv_file)\n",
    "workload_trace = df[\"Power (Watt)\"].to_numpy()\n",
    "workload_trace = workload_trace/2708.0*10\n",
    "workload_trace = np.repeat(workload_trace.reshape([1,-1])/10, 10, axis=0)\n",
    "print(workload_trace.shape)"
   ]
  },
  {
   "cell_type": "markdown",
   "id": "e179808d-281e-4e47-8bfc-2906b4778343",
   "metadata": {},
   "source": [
    "### 1.1 Preprocess Data"
   ]
  },
  {
   "cell_type": "code",
   "execution_count": 4,
   "id": "5673f35a-f4d4-46d5-996b-1b34340ce820",
   "metadata": {},
   "outputs": [
    {
     "name": "stdout",
     "output_type": "stream",
     "text": [
      "(100, 457)\n",
      "(100, 457)\n",
      "(100, 457)\n",
      "(10, 457)\n"
     ]
    }
   ],
   "source": [
    "si        = 0\n",
    "ei        = 457\n",
    "num_ins   = ei - si\n",
    "\n",
    "price_all_loc  = price_all_loc[:, si:ei]\n",
    "carbon_all_loc = carbon_all_loc[:, si:ei]\n",
    "water_all_loc  = water_all_loc[:, si:ei]\n",
    "workload_trace = workload_trace[:, si:ei]\n",
    "\n",
    "price_all_loc  = expand_gateway(price_all_loc)\n",
    "carbon_all_loc = expand_gateway(carbon_all_loc)\n",
    "water_all_loc  = expand_gateway(water_all_loc)\n",
    "\n",
    "print(price_all_loc.shape)\n",
    "print(carbon_all_loc.shape)\n",
    "print(water_all_loc.shape)\n",
    "print(workload_trace.shape)\n",
    "\n",
    "mask         = np.ones([10,10])\n",
    "mask_array   = np.repeat(mask.reshape([-1,1]), num_ins , axis=1)"
   ]
  },
  {
   "cell_type": "markdown",
   "id": "c0b50f15-2b98-43ff-bb4a-d4d1c77c0e2c",
   "metadata": {
    "tags": []
   },
   "source": [
    "## 2. Start Experiment"
   ]
  },
  {
   "cell_type": "code",
   "execution_count": 5,
   "id": "93c95ea7-d819-4ce4-9121-b32682aaa1f0",
   "metadata": {},
   "outputs": [],
   "source": [
    "l_1 = 60       # mu_water for the water consumption weight\n",
    "l_2 = 1500     # mu_carbon for carbon emission weight"
   ]
  },
  {
   "cell_type": "markdown",
   "id": "be9687e2-e7ee-4d9c-aa9f-2a5ff98452e4",
   "metadata": {
    "tags": []
   },
   "source": [
    "### 2.1 Closest Connection"
   ]
  },
  {
   "cell_type": "code",
   "execution_count": 6,
   "id": "1a3682f7-e142-48a1-aa2b-39c86eb86e71",
   "metadata": {},
   "outputs": [
    {
     "name": "stdout",
     "output_type": "stream",
     "text": [
      "Start Solving...\n",
      "===============================================================================\n",
      "                                     CVXPY                                     \n",
      "                                    v1.1.18                                    \n",
      "===============================================================================\n",
      "(CVXPY) Jun 26 06:41:38 PM: Your problem has 45700 variables, 54840 constraints, and 0 parameters.\n",
      "(CVXPY) Jun 26 06:41:39 PM: It is compliant with the following grammars: DCP, DQCP\n",
      "(CVXPY) Jun 26 06:41:39 PM: (If you need to solve this problem multiple times, but with different data, consider using parameters.)\n",
      "(CVXPY) Jun 26 06:41:39 PM: CVXPY will first compile your problem; then, it will invoke a numerical solver to obtain a solution.\n",
      "-------------------------------------------------------------------------------\n",
      "                                  Compilation                                  \n",
      "-------------------------------------------------------------------------------\n",
      "(CVXPY) Jun 26 06:41:41 PM: Compiling problem (target solver=ECOS).\n",
      "(CVXPY) Jun 26 06:41:41 PM: Reduction chain: Dcp2Cone -> CvxAttr2Constr -> ConeMatrixStuffing -> ECOS\n",
      "(CVXPY) Jun 26 06:41:41 PM: Applying reduction Dcp2Cone\n",
      "(CVXPY) Jun 26 06:41:44 PM: Applying reduction CvxAttr2Constr\n",
      "(CVXPY) Jun 26 06:41:45 PM: Applying reduction ConeMatrixStuffing\n",
      "(CVXPY) Jun 26 06:43:08 PM: Applying reduction ECOS\n",
      "(CVXPY) Jun 26 06:43:21 PM: Finished problem compilation (took 1.023e+02 seconds).\n",
      "-------------------------------------------------------------------------------\n",
      "                                Numerical solver                               \n",
      "-------------------------------------------------------------------------------\n",
      "(CVXPY) Jun 26 06:43:21 PM: Invoking solver ECOS  to obtain a solution.\n",
      "-------------------------------------------------------------------------------\n",
      "                                    Summary                                    \n",
      "-------------------------------------------------------------------------------\n",
      "(CVXPY) Jun 26 06:43:25 PM: Problem status: optimal\n",
      "(CVXPY) Jun 26 06:43:25 PM: Optimal value: 6.237e+05\n",
      "(CVXPY) Jun 26 06:43:25 PM: Compilation took 1.023e+02 seconds\n",
      "(CVXPY) Jun 26 06:43:25 PM: Solver (including time spent in interface) took 3.024e+00 seconds\n",
      "Closest Connection:  623661.3524764299\n",
      "623661.3524764299\n",
      "(100, 457)\n"
     ]
    }
   ],
   "source": [
    "mask_ones         = np.eye(10)\n",
    "mask_ones_array   = np.repeat(mask.reshape([-1,1]), num_ins , axis=1)\n",
    "\n",
    "optimal_cost, action_mask  = offline_solver(price_all_loc, water_all_loc, carbon_all_loc, workload_trace, mask_ones_array, num_ins, verbose=True, l_1 = l_1, l_2 = l_2)\n",
    "print(\"Closest Connection: \", optimal_cost)\n",
    "\n",
    "data_dict_cc = {\"Name\": \"Closest Connection\",\n",
    "                \"Total_Cost\": optimal_cost,\n",
    "                \"Action\": action_mask}\n",
    "print(optimal_cost)\n",
    "print(action_mask.shape)"
   ]
  },
  {
   "cell_type": "code",
   "execution_count": 7,
   "id": "5037b0c9-394a-443e-86a3-77bd97d9adc9",
   "metadata": {},
   "outputs": [],
   "source": [
    "with open('output/result_closest_connect.pkl', 'wb') as handle:\n",
    "    pickle.dump(data_dict_cc, handle, protocol=pickle.HIGHEST_PROTOCOL)"
   ]
  },
  {
   "cell_type": "markdown",
   "id": "ec5f3ed2-e549-49e9-ad53-8706c6e38ae6",
   "metadata": {
    "tags": []
   },
   "source": [
    "### 2.2 Equitable (Ours)"
   ]
  },
  {
   "cell_type": "code",
   "execution_count": 8,
   "id": "fbd91642-ba5f-4ce0-82a5-423ca4fedfcd",
   "metadata": {
    "tags": []
   },
   "outputs": [
    {
     "name": "stdout",
     "output_type": "stream",
     "text": [
      "Start Solving...\n",
      "===============================================================================\n",
      "                                     CVXPY                                     \n",
      "                                    v1.1.18                                    \n",
      "===============================================================================\n",
      "(CVXPY) Jun 26 06:43:30 PM: Your problem has 45700 variables, 54840 constraints, and 0 parameters.\n",
      "(CVXPY) Jun 26 06:43:32 PM: It is compliant with the following grammars: DCP, DQCP\n",
      "(CVXPY) Jun 26 06:43:32 PM: (If you need to solve this problem multiple times, but with different data, consider using parameters.)\n",
      "(CVXPY) Jun 26 06:43:32 PM: CVXPY will first compile your problem; then, it will invoke a numerical solver to obtain a solution.\n",
      "-------------------------------------------------------------------------------\n",
      "                                  Compilation                                  \n",
      "-------------------------------------------------------------------------------\n",
      "(CVXPY) Jun 26 06:43:33 PM: Compiling problem (target solver=ECOS).\n",
      "(CVXPY) Jun 26 06:43:33 PM: Reduction chain: Dcp2Cone -> CvxAttr2Constr -> ConeMatrixStuffing -> ECOS\n",
      "(CVXPY) Jun 26 06:43:33 PM: Applying reduction Dcp2Cone\n",
      "(CVXPY) Jun 26 06:43:37 PM: Applying reduction CvxAttr2Constr\n",
      "(CVXPY) Jun 26 06:43:37 PM: Applying reduction ConeMatrixStuffing\n",
      "(CVXPY) Jun 26 06:44:57 PM: Applying reduction ECOS\n",
      "(CVXPY) Jun 26 06:45:11 PM: Finished problem compilation (took 9.916e+01 seconds).\n",
      "-------------------------------------------------------------------------------\n",
      "                                Numerical solver                               \n",
      "-------------------------------------------------------------------------------\n",
      "(CVXPY) Jun 26 06:45:11 PM: Invoking solver ECOS  to obtain a solution.\n",
      "-------------------------------------------------------------------------------\n",
      "                                    Summary                                    \n",
      "-------------------------------------------------------------------------------\n",
      "(CVXPY) Jun 26 06:45:15 PM: Problem status: optimal\n",
      "(CVXPY) Jun 26 06:45:15 PM: Optimal value: 6.237e+05\n",
      "(CVXPY) Jun 26 06:45:15 PM: Compilation took 9.916e+01 seconds\n",
      "(CVXPY) Jun 26 06:45:15 PM: Solver (including time spent in interface) took 3.004e+00 seconds\n",
      "All Connection:  623661.3524764299\n",
      "623661.3524764299\n",
      "(100, 457)\n"
     ]
    }
   ],
   "source": [
    "optimal_cost, action_mask  = offline_solver(price_all_loc, water_all_loc, carbon_all_loc, workload_trace, mask_array, num_ins, verbose=True, l_1 = l_1, l_2 = l_2, f_type = \"MAX\")\n",
    "print(\"All Connection: \", optimal_cost)\n",
    "\n",
    "data_dict_eq = {\"Name\": \"Equitable\",\n",
    "                \"Total_Cost\": optimal_cost,\n",
    "                \"Action\": action_mask}\n",
    "print(optimal_cost)\n",
    "print(action_mask.shape)"
   ]
  },
  {
   "cell_type": "code",
   "execution_count": 9,
   "id": "473d9ef9-e65b-451a-8965-31f3c387651e",
   "metadata": {},
   "outputs": [],
   "source": [
    "with open('output/result_equitable.pkl', 'wb') as handle:\n",
    "    pickle.dump(data_dict_eq, handle, protocol=pickle.HIGHEST_PROTOCOL)"
   ]
  },
  {
   "cell_type": "markdown",
   "id": "3ca875ac-3789-421f-9b4c-5e948d1ae8e9",
   "metadata": {
    "tags": []
   },
   "source": [
    "### 2.3 Min Price"
   ]
  },
  {
   "cell_type": "code",
   "execution_count": 10,
   "id": "b9b2d737-6cd7-49e1-bac9-15ecc216d1af",
   "metadata": {},
   "outputs": [
    {
     "name": "stdout",
     "output_type": "stream",
     "text": [
      "Start Solving...\n",
      "===============================================================================\n",
      "                                     CVXPY                                     \n",
      "                                    v1.1.18                                    \n",
      "===============================================================================\n",
      "(CVXPY) Jun 26 06:45:20 PM: Your problem has 45700 variables, 54840 constraints, and 0 parameters.\n",
      "(CVXPY) Jun 26 06:45:21 PM: It is compliant with the following grammars: DCP, DQCP\n",
      "(CVXPY) Jun 26 06:45:21 PM: (If you need to solve this problem multiple times, but with different data, consider using parameters.)\n",
      "(CVXPY) Jun 26 06:45:21 PM: CVXPY will first compile your problem; then, it will invoke a numerical solver to obtain a solution.\n",
      "-------------------------------------------------------------------------------\n",
      "                                  Compilation                                  \n",
      "-------------------------------------------------------------------------------\n",
      "(CVXPY) Jun 26 06:45:23 PM: Compiling problem (target solver=ECOS).\n",
      "(CVXPY) Jun 26 06:45:23 PM: Reduction chain: Dcp2Cone -> CvxAttr2Constr -> ConeMatrixStuffing -> ECOS\n",
      "(CVXPY) Jun 26 06:45:23 PM: Applying reduction Dcp2Cone\n",
      "(CVXPY) Jun 26 06:45:26 PM: Applying reduction CvxAttr2Constr\n",
      "(CVXPY) Jun 26 06:45:26 PM: Applying reduction ConeMatrixStuffing\n",
      "(CVXPY) Jun 26 06:46:40 PM: Applying reduction ECOS\n",
      "(CVXPY) Jun 26 06:46:52 PM: Finished problem compilation (took 9.123e+01 seconds).\n",
      "-------------------------------------------------------------------------------\n",
      "                                Numerical solver                               \n",
      "-------------------------------------------------------------------------------\n",
      "(CVXPY) Jun 26 06:46:52 PM: Invoking solver ECOS  to obtain a solution.\n",
      "-------------------------------------------------------------------------------\n",
      "                                    Summary                                    \n",
      "-------------------------------------------------------------------------------\n",
      "(CVXPY) Jun 26 06:46:53 PM: Problem status: optimal\n",
      "(CVXPY) Jun 26 06:46:53 PM: Optimal value: 2.917e+05\n",
      "(CVXPY) Jun 26 06:46:53 PM: Compilation took 9.123e+01 seconds\n",
      "(CVXPY) Jun 26 06:46:53 PM: Solver (including time spent in interface) took 2.622e-01 seconds\n",
      "All Connection:  291698.606287178\n",
      "291698.606287178\n",
      "(100, 457)\n"
     ]
    }
   ],
   "source": [
    "optimal_cost, action_mask  = offline_solver(price_all_loc, water_all_loc, carbon_all_loc, workload_trace, mask_array, num_ins, verbose=True, l_1 = 0, l_2 = 0, f_type = \"AVG\")\n",
    "print(\"All Connection: \", optimal_cost)\n",
    "\n",
    "data_dict_mp = {\"Name\": \"Min Price\",\n",
    "                \"Total_Cost\": optimal_cost,\n",
    "                \"Action\": action_mask}\n",
    "print(optimal_cost)\n",
    "print(action_mask.shape)"
   ]
  },
  {
   "cell_type": "code",
   "execution_count": 11,
   "id": "591dd422-e8b7-4bdb-8203-5297a0271997",
   "metadata": {},
   "outputs": [],
   "source": [
    "with open('output/result_min_price.pkl', 'wb') as handle:\n",
    "    pickle.dump(data_dict_mp, handle, protocol=pickle.HIGHEST_PROTOCOL)"
   ]
  },
  {
   "cell_type": "markdown",
   "id": "0b7dc4ea-8b6d-4cd7-894b-bd6218f2aac0",
   "metadata": {
    "tags": []
   },
   "source": [
    "### 2.4 Price plus Carbon"
   ]
  },
  {
   "cell_type": "code",
   "execution_count": 12,
   "id": "d3edd02b-0b14-4a7b-900e-f05084677ebe",
   "metadata": {
    "tags": []
   },
   "outputs": [
    {
     "name": "stdout",
     "output_type": "stream",
     "text": [
      "Start Solving...\n",
      "===============================================================================\n",
      "                                     CVXPY                                     \n",
      "                                    v1.1.18                                    \n",
      "===============================================================================\n",
      "(CVXPY) Jun 26 06:46:59 PM: Your problem has 45700 variables, 54840 constraints, and 0 parameters.\n",
      "(CVXPY) Jun 26 06:47:00 PM: It is compliant with the following grammars: DCP, DQCP\n",
      "(CVXPY) Jun 26 06:47:00 PM: (If you need to solve this problem multiple times, but with different data, consider using parameters.)\n",
      "(CVXPY) Jun 26 06:47:00 PM: CVXPY will first compile your problem; then, it will invoke a numerical solver to obtain a solution.\n",
      "-------------------------------------------------------------------------------\n",
      "                                  Compilation                                  \n",
      "-------------------------------------------------------------------------------\n",
      "(CVXPY) Jun 26 06:47:02 PM: Compiling problem (target solver=ECOS).\n",
      "(CVXPY) Jun 26 06:47:02 PM: Reduction chain: Dcp2Cone -> CvxAttr2Constr -> ConeMatrixStuffing -> ECOS\n",
      "(CVXPY) Jun 26 06:47:02 PM: Applying reduction Dcp2Cone\n",
      "(CVXPY) Jun 26 06:47:05 PM: Applying reduction CvxAttr2Constr\n",
      "(CVXPY) Jun 26 06:47:05 PM: Applying reduction ConeMatrixStuffing\n",
      "(CVXPY) Jun 26 06:48:19 PM: Applying reduction ECOS\n",
      "(CVXPY) Jun 26 06:48:32 PM: Finished problem compilation (took 9.226e+01 seconds).\n",
      "-------------------------------------------------------------------------------\n",
      "                                Numerical solver                               \n",
      "-------------------------------------------------------------------------------\n",
      "(CVXPY) Jun 26 06:48:32 PM: Invoking solver ECOS  to obtain a solution.\n",
      "-------------------------------------------------------------------------------\n",
      "                                    Summary                                    \n",
      "-------------------------------------------------------------------------------\n",
      "(CVXPY) Jun 26 06:48:34 PM: Problem status: optimal\n",
      "(CVXPY) Jun 26 06:48:34 PM: Optimal value: 9.140e+05\n",
      "(CVXPY) Jun 26 06:48:34 PM: Compilation took 9.226e+01 seconds\n",
      "(CVXPY) Jun 26 06:48:34 PM: Solver (including time spent in interface) took 2.533e-01 seconds\n",
      "All Connection:  914038.1375558949\n",
      "914038.1375558949\n",
      "(100, 457)\n"
     ]
    }
   ],
   "source": [
    "# Minimize the average price and carbon\n",
    "optimal_cost, action_mask  = offline_solver(price_all_loc, water_all_loc, carbon_all_loc, workload_trace, mask_array, num_ins, verbose=True, l_1 = 0, l_2 = l_2*4, f_type = \"AVG\")\n",
    "print(\"All Connection: \", optimal_cost)\n",
    "\n",
    "data_dict_pc = {\"Name\": \"Price and Carbon\",\n",
    "                \"Total_Cost\": optimal_cost,\n",
    "                \"Action\": action_mask}\n",
    "print(optimal_cost)\n",
    "print(action_mask.shape)"
   ]
  },
  {
   "cell_type": "code",
   "execution_count": 13,
   "id": "0142e1ed-eb81-49d4-8582-60349701da24",
   "metadata": {},
   "outputs": [],
   "source": [
    "with open('output/result_price_carbon.pkl', 'wb') as handle:\n",
    "    pickle.dump(data_dict_pc, handle, protocol=pickle.HIGHEST_PROTOCOL)"
   ]
  },
  {
   "cell_type": "markdown",
   "id": "1ca4be22-79f2-47f4-8a60-73a0a59bfaac",
   "metadata": {
    "tags": []
   },
   "source": [
    "### 2.5 Total Cost Minimize"
   ]
  },
  {
   "cell_type": "code",
   "execution_count": 14,
   "id": "9a6e62a1-d065-4d08-b52a-59a649229a4a",
   "metadata": {},
   "outputs": [
    {
     "name": "stdout",
     "output_type": "stream",
     "text": [
      "Start Solving...\n",
      "===============================================================================\n",
      "                                     CVXPY                                     \n",
      "                                    v1.1.18                                    \n",
      "===============================================================================\n",
      "(CVXPY) Jun 26 06:48:39 PM: Your problem has 45700 variables, 54840 constraints, and 0 parameters.\n",
      "(CVXPY) Jun 26 06:48:40 PM: It is compliant with the following grammars: DCP, DQCP\n",
      "(CVXPY) Jun 26 06:48:40 PM: (If you need to solve this problem multiple times, but with different data, consider using parameters.)\n",
      "(CVXPY) Jun 26 06:48:40 PM: CVXPY will first compile your problem; then, it will invoke a numerical solver to obtain a solution.\n",
      "-------------------------------------------------------------------------------\n",
      "                                  Compilation                                  \n",
      "-------------------------------------------------------------------------------\n",
      "(CVXPY) Jun 26 06:48:42 PM: Compiling problem (target solver=ECOS).\n",
      "(CVXPY) Jun 26 06:48:42 PM: Reduction chain: Dcp2Cone -> CvxAttr2Constr -> ConeMatrixStuffing -> ECOS\n",
      "(CVXPY) Jun 26 06:48:42 PM: Applying reduction Dcp2Cone\n",
      "(CVXPY) Jun 26 06:48:45 PM: Applying reduction CvxAttr2Constr\n",
      "(CVXPY) Jun 26 06:48:45 PM: Applying reduction ConeMatrixStuffing\n",
      "(CVXPY) Jun 26 06:49:59 PM: Applying reduction ECOS\n",
      "(CVXPY) Jun 26 06:50:13 PM: Finished problem compilation (took 9.281e+01 seconds).\n",
      "-------------------------------------------------------------------------------\n",
      "                                Numerical solver                               \n",
      "-------------------------------------------------------------------------------\n",
      "(CVXPY) Jun 26 06:50:13 PM: Invoking solver ECOS  to obtain a solution.\n",
      "-------------------------------------------------------------------------------\n",
      "                                    Summary                                    \n",
      "-------------------------------------------------------------------------------\n",
      "(CVXPY) Jun 26 06:50:14 PM: Problem status: optimal\n",
      "(CVXPY) Jun 26 06:50:14 PM: Optimal value: 1.047e+06\n",
      "(CVXPY) Jun 26 06:50:14 PM: Compilation took 9.281e+01 seconds\n",
      "(CVXPY) Jun 26 06:50:14 PM: Solver (including time spent in interface) took 2.512e-01 seconds\n",
      "All Connection:  1046974.2126152215\n",
      "1046974.2126152215\n",
      "(100, 457)\n"
     ]
    }
   ],
   "source": [
    "# Minimize the average of total cost (price + water + carbon)\n",
    "optimal_cost, action_mask  = offline_solver(price_all_loc, water_all_loc, carbon_all_loc, workload_trace, mask_array, num_ins, verbose=True, l_1 = l_1*5, l_2 = l_2*2, f_type = \"AVG\")\n",
    "print(\"All Connection: \", optimal_cost)\n",
    "\n",
    "data_dict_tc = {\"Name\": \"Total Cost\",\n",
    "                \"Total_Cost\": deepcopy(optimal_cost),\n",
    "                \"Action\": action_mask}\n",
    "print(optimal_cost)\n",
    "print(action_mask.shape)"
   ]
  },
  {
   "cell_type": "code",
   "execution_count": 15,
   "id": "33ce339d-2ae9-4611-817d-1cd3633d90dc",
   "metadata": {},
   "outputs": [],
   "source": [
    "with open('output/result_total_cost.pkl', 'wb') as handle:\n",
    "    pickle.dump(data_dict_tc, handle, protocol=pickle.HIGHEST_PROTOCOL)"
   ]
  },
  {
   "cell_type": "markdown",
   "id": "6080c88f-f27b-4996-b035-471e26b21c6b",
   "metadata": {
    "tags": []
   },
   "source": [
    "### 2.6 Pure Water"
   ]
  },
  {
   "cell_type": "code",
   "execution_count": 16,
   "id": "c03602da-899e-48bb-9444-13f762d675a2",
   "metadata": {},
   "outputs": [
    {
     "name": "stdout",
     "output_type": "stream",
     "text": [
      "Start Solving...\n",
      "===============================================================================\n",
      "                                     CVXPY                                     \n",
      "                                    v1.1.18                                    \n",
      "===============================================================================\n",
      "(CVXPY) Jun 26 06:50:19 PM: Your problem has 45700 variables, 54840 constraints, and 0 parameters.\n",
      "(CVXPY) Jun 26 06:50:21 PM: It is compliant with the following grammars: DCP, DQCP\n",
      "(CVXPY) Jun 26 06:50:21 PM: (If you need to solve this problem multiple times, but with different data, consider using parameters.)\n",
      "(CVXPY) Jun 26 06:50:21 PM: CVXPY will first compile your problem; then, it will invoke a numerical solver to obtain a solution.\n",
      "-------------------------------------------------------------------------------\n",
      "                                  Compilation                                  \n",
      "-------------------------------------------------------------------------------\n",
      "(CVXPY) Jun 26 06:50:22 PM: Compiling problem (target solver=ECOS).\n",
      "(CVXPY) Jun 26 06:50:22 PM: Reduction chain: Dcp2Cone -> CvxAttr2Constr -> ConeMatrixStuffing -> ECOS\n",
      "(CVXPY) Jun 26 06:50:22 PM: Applying reduction Dcp2Cone\n",
      "(CVXPY) Jun 26 06:50:26 PM: Applying reduction CvxAttr2Constr\n",
      "(CVXPY) Jun 26 06:50:26 PM: Applying reduction ConeMatrixStuffing\n",
      "(CVXPY) Jun 26 06:51:40 PM: Applying reduction ECOS\n",
      "(CVXPY) Jun 26 06:51:53 PM: Finished problem compilation (took 9.241e+01 seconds).\n",
      "-------------------------------------------------------------------------------\n",
      "                                Numerical solver                               \n",
      "-------------------------------------------------------------------------------\n",
      "(CVXPY) Jun 26 06:51:53 PM: Invoking solver ECOS  to obtain a solution.\n",
      "-------------------------------------------------------------------------------\n",
      "                                    Summary                                    \n",
      "-------------------------------------------------------------------------------\n",
      "(CVXPY) Jun 26 06:51:54 PM: Problem status: optimal\n",
      "(CVXPY) Jun 26 06:51:54 PM: Optimal value: 7.463e+04\n",
      "(CVXPY) Jun 26 06:51:54 PM: Compilation took 9.241e+01 seconds\n",
      "(CVXPY) Jun 26 06:51:54 PM: Solver (including time spent in interface) took 2.120e-01 seconds\n",
      "All Connection:  74634.83688514176\n",
      "74634.83688514176\n",
      "(100, 457)\n"
     ]
    }
   ],
   "source": [
    "# Only minimize the water consumption\n",
    "optimal_cost, action_mask  = offline_solver(price_all_loc, water_all_loc, carbon_all_loc, workload_trace, mask_array, num_ins, verbose=True, l_0 = 0, l_1 = l_1, l_2 = 0, f_type = \"AVG\")\n",
    "print(\"All Connection: \", optimal_cost)\n",
    "\n",
    "data_dict_pw = {\"Name\": \"Pure Water\",\n",
    "                \"Total_Cost\": optimal_cost,\n",
    "                \"Action\": action_mask}\n",
    "print(optimal_cost)\n",
    "print(action_mask.shape)"
   ]
  },
  {
   "cell_type": "code",
   "execution_count": 17,
   "id": "568add6c-fdc9-4582-9cbd-0b4f954f2165",
   "metadata": {},
   "outputs": [],
   "source": [
    "with open('output/result_pure_water.pkl', 'wb') as handle:\n",
    "    pickle.dump(data_dict_pw, handle, protocol=pickle.HIGHEST_PROTOCOL)"
   ]
  },
  {
   "cell_type": "markdown",
   "id": "5c116286-cd87-492a-992e-88263690c608",
   "metadata": {
    "tags": []
   },
   "source": [
    "### 2.7 Pure Carbon"
   ]
  },
  {
   "cell_type": "code",
   "execution_count": 18,
   "id": "fe8486e1-74f5-4f6c-8dec-103e0929dd77",
   "metadata": {},
   "outputs": [
    {
     "name": "stdout",
     "output_type": "stream",
     "text": [
      "Start Solving...\n",
      "===============================================================================\n",
      "                                     CVXPY                                     \n",
      "                                    v1.1.18                                    \n",
      "===============================================================================\n",
      "(CVXPY) Jun 26 06:51:59 PM: Your problem has 45700 variables, 54840 constraints, and 0 parameters.\n",
      "(CVXPY) Jun 26 06:52:01 PM: It is compliant with the following grammars: DCP, DQCP\n",
      "(CVXPY) Jun 26 06:52:01 PM: (If you need to solve this problem multiple times, but with different data, consider using parameters.)\n",
      "(CVXPY) Jun 26 06:52:01 PM: CVXPY will first compile your problem; then, it will invoke a numerical solver to obtain a solution.\n",
      "-------------------------------------------------------------------------------\n",
      "                                  Compilation                                  \n",
      "-------------------------------------------------------------------------------\n",
      "(CVXPY) Jun 26 06:52:03 PM: Compiling problem (target solver=ECOS).\n",
      "(CVXPY) Jun 26 06:52:03 PM: Reduction chain: Dcp2Cone -> CvxAttr2Constr -> ConeMatrixStuffing -> ECOS\n",
      "(CVXPY) Jun 26 06:52:03 PM: Applying reduction Dcp2Cone\n",
      "(CVXPY) Jun 26 06:52:06 PM: Applying reduction CvxAttr2Constr\n",
      "(CVXPY) Jun 26 06:52:06 PM: Applying reduction ConeMatrixStuffing\n",
      "(CVXPY) Jun 26 06:53:21 PM: Applying reduction ECOS\n",
      "(CVXPY) Jun 26 06:53:34 PM: Finished problem compilation (took 9.265e+01 seconds).\n",
      "-------------------------------------------------------------------------------\n",
      "                                Numerical solver                               \n",
      "-------------------------------------------------------------------------------\n",
      "(CVXPY) Jun 26 06:53:34 PM: Invoking solver ECOS  to obtain a solution.\n",
      "-------------------------------------------------------------------------------\n",
      "                                    Summary                                    \n",
      "-------------------------------------------------------------------------------\n",
      "(CVXPY) Jun 26 06:53:35 PM: Problem status: optimal\n",
      "(CVXPY) Jun 26 06:53:35 PM: Optimal value: 1.396e+05\n",
      "(CVXPY) Jun 26 06:53:35 PM: Compilation took 9.265e+01 seconds\n",
      "(CVXPY) Jun 26 06:53:35 PM: Solver (including time spent in interface) took 2.129e-01 seconds\n",
      "All Connection:  139600.80130509293\n",
      "139600.80130509293\n",
      "(100, 457)\n"
     ]
    }
   ],
   "source": [
    "# Only minimize the carbon emission\n",
    "optimal_cost, action_mask  = offline_solver(price_all_loc, water_all_loc, carbon_all_loc, workload_trace, mask_array, num_ins, verbose=True, l_0 = 0, l_1 = 0, l_2 = l_2, f_type = \"AVG\")\n",
    "print(\"All Connection: \", optimal_cost)\n",
    "\n",
    "data_dict_pc = {\"Name\": \"Pure Carbon\",\n",
    "                \"Total_Cost\": optimal_cost,\n",
    "                \"Action\": action_mask}\n",
    "print(optimal_cost)\n",
    "print(action_mask.shape)"
   ]
  },
  {
   "cell_type": "code",
   "execution_count": 19,
   "id": "f89336ad-5518-428b-bee5-ceddce524a98",
   "metadata": {},
   "outputs": [],
   "source": [
    "with open('output/result_pure_carbon_2.pkl', 'wb') as handle:\n",
    "    pickle.dump(data_dict_pc, handle, protocol=pickle.HIGHEST_PROTOCOL)"
   ]
  },
  {
   "cell_type": "markdown",
   "id": "2f680ed3-49d8-4c5b-80b1-bf199664b700",
   "metadata": {
    "tags": []
   },
   "source": [
    "## 3. Final Evaluation"
   ]
  },
  {
   "cell_type": "code",
   "execution_count": 20,
   "id": "05ac28d6-c0af-4e3d-992b-e3f54eb7eaa9",
   "metadata": {
    "tags": []
   },
   "outputs": [
    {
     "name": "stdout",
     "output_type": "stream",
     "text": [
      "-------\n",
      "Closest Connection\n",
      "-------\n",
      "33669.45105842025\n",
      "59253.78319315321\n",
      "1432.792210790843\n",
      "1818.734618500509\n",
      "104.91162881039315\n",
      "118.5618431881312\n",
      "**************************************************\n",
      "-------\n",
      "Equitable\n",
      "-------\n",
      "33669.45105842025\n",
      "59253.78319315321\n",
      "1432.792210790843\n",
      "1818.734618500509\n",
      "104.91162881039315\n",
      "118.5618431881312\n",
      "**************************************************\n",
      "-------\n",
      "Min Price\n",
      "-------\n",
      "29169.8606287178\n",
      "42327.51158875257\n",
      "1525.069250911699\n",
      "2607.499995942185\n",
      "108.714105315913\n",
      "182.1356032921319\n",
      "**************************************************\n",
      "-------\n",
      "Price and Carbon\n",
      "-------\n",
      "31272.43697395047\n",
      "70779.11182583393\n",
      "1467.7833974742239\n",
      "2669.609162962292\n",
      "100.21896130273169\n",
      "175.56486541730902\n",
      "**************************************************\n",
      "-------\n",
      "Total Cost\n",
      "-------\n",
      "31473.60117948522\n",
      "64842.2236301698\n",
      "1429.4631562176683\n",
      "2566.60363884651\n",
      "101.13308465168961\n",
      "179.172750240521\n",
      "**************************************************\n"
     ]
    }
   ],
   "source": [
    "file_list = [\"result_closest_connect.pkl\", \"result_equitable.pkl\", \"result_min_price.pkl\", \"result_price_carbon.pkl\", \"result_total_cost.pkl\"]\n",
    "\n",
    "for path in file_list:\n",
    "    with open('output/' + path, \"rb\") as handle:\n",
    "        current_dict = pickle.load(handle)\n",
    "                                   \n",
    "    optimal_cost  = current_dict[\"Total_Cost\"]\n",
    "    action_mask   = current_dict[\"Action\"].reshape([10,10,-1])\n",
    "\n",
    "    price_res   = evaluate_single(action_mask, price_all_loc)\n",
    "    water_res   = evaluate_single(action_mask, water_all_loc)\n",
    "    carbon_res  = evaluate_single(action_mask, carbon_all_loc)\n",
    "\n",
    "    print(\"-------\")\n",
    "    print(current_dict[\"Name\"])\n",
    "    print(\"-------\")\n",
    "    \n",
    "    # Mean and max of electricity price\n",
    "    print(np.mean(price_res))\n",
    "    print(np.max(price_res))\n",
    "    \n",
    "    # Mean and max of water consumption\n",
    "    print(np.mean(water_res))\n",
    "    print(np.max(water_res))\n",
    "    \n",
    "    # Mean and max of carbon emission\n",
    "    print(np.mean(carbon_res))\n",
    "    print(np.max(carbon_res))\n",
    "\n",
    "    print(\"*\"*50)"
   ]
  },
  {
   "cell_type": "code",
   "execution_count": null,
   "id": "cbc6f7b2-4df5-41e8-9633-791ee56d0cf8",
   "metadata": {},
   "outputs": [],
   "source": []
  }
 ],
 "metadata": {
  "kernelspec": {
   "display_name": "Python 3",
   "language": "python",
   "name": "python3"
  },
  "language_info": {
   "codemirror_mode": {
    "name": "ipython",
    "version": 3
   },
   "file_extension": ".py",
   "mimetype": "text/x-python",
   "name": "python",
   "nbconvert_exporter": "python",
   "pygments_lexer": "ipython3",
   "version": "3.7.10"
  }
 },
 "nbformat": 4,
 "nbformat_minor": 5
}
